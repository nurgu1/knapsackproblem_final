{
 "cells": [
  {
   "cell_type": "markdown",
   "id": "f6773ef5",
   "metadata": {},
   "source": [
    "# TASK DESCREPTION\n",
    "\n",
    "The 0/1 Knapsack Problem is a classic issue in combinatorial optimization. An adventurer is filling a knapsack with items from a loot, each with a weight and a value, but the knapsack can only hold a certain weight. The objective is to maximize the total value in the knapsack without exceeding its weight limit.\n",
    "\n",
    "This task requires implementing a dynamic programming approach to solve the problem efficiently by breaking it down into simpler subproblems and storing their solutions. Additionally, a greedy algorithm will be implemented to contrast its heuristic approach with the optimized solution of dynamic programming. You will conduct a thorough analysis, comparing the solutions based on their value maximization and computational efficiency. Multiple test cases with varying numbers of items and knapsack capacities will be run to assess average, best, and worst-case performance metrics for each algorithm."
   ]
  },
  {
   "cell_type": "markdown",
   "id": "fb15b0e4",
   "metadata": {},
   "source": [
    "# greedy algorithm"
   ]
  },
  {
   "cell_type": "code",
   "execution_count": 1,
   "id": "54811060",
   "metadata": {},
   "outputs": [],
   "source": [
    "def knapsack_greedy(capacity, weights, values):\n",
    "    ratio = [(values[i] / weights[i], weights[i], values[i]) for i in range(len(weights))]\n",
    "    ratio.sort(reverse=True, key=lambda x: x[0])\n",
    "    total_value = 0\n",
    "    current_capacity = 0\n",
    "\n",
    "    for r in ratio:\n",
    "        if current_capacity + r[1] <= capacity:\n",
    "            current_capacity += r[1]\n",
    "            total_value += r[2]\n",
    "\n",
    "    return total_value"
   ]
  },
  {
   "cell_type": "markdown",
   "id": "9b185c22",
   "metadata": {},
   "source": [
    "Why is the algorith above not \"correct\"?\n",
    "\n",
    "even though it puts the object with the best value in the knapsack, it does not necessarily use the whole capacity of it, so the outcome does not always have the best value"
   ]
  },
  {
   "cell_type": "code",
   "execution_count": 2,
   "id": "d0f27b58",
   "metadata": {},
   "outputs": [
    {
     "name": "stdout",
     "output_type": "stream",
     "text": [
      "5\n"
     ]
    }
   ],
   "source": [
    "print(knapsack_greedy(capacity=6, weights = [4, 3, 3], values =[5, 3, 3]))"
   ]
  },
  {
   "cell_type": "markdown",
   "id": "c7f2a202",
   "metadata": {},
   "source": [
    "Example:\n",
    "capacity=6, weights = [4, 3, 3], values=[5, 3, 3] \n",
    "\n",
    "the greatest value here would be 6, but the algorithm could not use the whole capacity of the knapsack"
   ]
  },
  {
   "cell_type": "markdown",
   "id": "0d60d439",
   "metadata": {},
   "source": [
    "# recursive algorithm"
   ]
  },
  {
   "cell_type": "code",
   "execution_count": 3,
   "id": "532e6477",
   "metadata": {},
   "outputs": [],
   "source": [
    "def knapsack_recursive(capacity, weights, values, n = None):\n",
    "    if n is None:\n",
    "        n = len(weights)\n",
    "        \n",
    "    #if there are no more items or no more space in the knapsack:\n",
    "    if n == 0 or capacity == 0:\n",
    "        return 0\n",
    "    \n",
    "    #if the item does not fit in the knapsack: \n",
    "    elif weights[n - 1] > capacity:\n",
    "        #calls the function again but does not examine the last item\n",
    "        return knapsack_recursive(capacity, weights, values, n - 1)\n",
    "\n",
    "    #item fits in the knapsack: we either put it in or we don't\n",
    "    else:\n",
    "        no = knapsack_recursive(capacity, weights, values, n - 1)\n",
    "        yes = values[n - 1] + knapsack_recursive(capacity - weights[n - 1], weights, values, n - 1)\n",
    "        return max(yes, no)\n",
    "\n",
    "\n",
    "#n = len(weights) <- number of items\n",
    "#time = O(2**n) #slow for big numbers\n",
    "#space = O(n) #does not take up a lot of memory (we like it, that's nice)"
   ]
  },
  {
   "cell_type": "code",
   "execution_count": 4,
   "id": "a1b5a1a6",
   "metadata": {},
   "outputs": [
    {
     "name": "stdout",
     "output_type": "stream",
     "text": [
      "6\n",
      "0\n",
      "27\n",
      "100\n"
     ]
    }
   ],
   "source": [
    "print(knapsack_recursive(capacity=6, weights = [4, 3, 3], values =[5, 3, 3]))\n",
    "print(knapsack_recursive(capacity=6, weights = [], values =[]))\n",
    "print(knapsack_recursive(capacity=6, weights = [4, 3, 3, 2, 2], values =[5, 3, 3, 22, 2]))\n",
    "print(knapsack_recursive(capacity=100, weights = range(30), values =range(30))) #slow"
   ]
  },
  {
   "cell_type": "markdown",
   "id": "ec689c1d",
   "metadata": {},
   "source": [
    "# dynamic algorithm"
   ]
  },
  {
   "cell_type": "code",
   "execution_count": 5,
   "id": "13555806",
   "metadata": {},
   "outputs": [],
   "source": [
    "def knapsack_dynamic(capacity, weights, values, n = None, memory = None):\n",
    "    if n is None:\n",
    "        n = len(weights)\n",
    "\n",
    "    #table is made\n",
    "    #None for every n and capacity \n",
    "    if memory is None:\n",
    "        memory = [[None for _ in range(capacity + 1)] for _ in range(n + 1)] # +1 because range\n",
    "\n",
    "    #if it was calculated before we do not do it again\n",
    "    if memory[n][capacity] is not None:\n",
    "        return memory[n][capacity]\n",
    "\n",
    "    #if there are no more items or capacity in the knapsack, we cannot do anything anymore\n",
    "    if n == 0 or capacity == 0:\n",
    "        return 0\n",
    "    \n",
    "    #if an item does not fit in the knapsack then we do not put it in\n",
    "    #check what fits form the other items\n",
    "    elif weights[n - 1] > capacity:\n",
    "        #save here\n",
    "        #calls the function again but does not examine the last item\n",
    "        memory[n][capacity] = knapsack_dynamic(capacity, weights, values, n - 1, memory)\n",
    "        return memory[n][capacity]\n",
    "    \n",
    "    #item fits in the knapsack: we either put it in or we don't\n",
    "    else:\n",
    "        no = knapsack_dynamic(capacity, weights, values, n - 1, memory)\n",
    "        yes = values[n - 1] + knapsack_dynamic(capacity - weights[n - 1], weights, values, n - 1, memory)\n",
    "        memory[n][capacity] = max(yes, no)\n",
    "        return memory[n][capacity]\n",
    "\n",
    "#n = len(weights) <- number of items\n",
    "#m = capacity\n",
    "#time = O(n*m) we write every item in the table once max\n",
    "#space = O(n*m) + O(n) table + n because traverse"
   ]
  },
  {
   "cell_type": "code",
   "execution_count": 6,
   "id": "1adc1023",
   "metadata": {},
   "outputs": [
    {
     "name": "stdout",
     "output_type": "stream",
     "text": [
      "6\n",
      "0\n",
      "27\n",
      "100\n"
     ]
    }
   ],
   "source": [
    "print(knapsack_dynamic(capacity=6, weights = [4, 3, 3], values =[5, 3, 3]))\n",
    "print(knapsack_dynamic(capacity=6, weights = [], values =[]))\n",
    "print(knapsack_dynamic(capacity=6, weights = [4, 3, 3, 2, 2], values =[5, 3, 3, 22, 2]))\n",
    "print(knapsack_dynamic(capacity=100, weights = range(30), values =range(30))) #slow"
   ]
  },
  {
   "cell_type": "markdown",
   "id": "9a1b77be",
   "metadata": {},
   "source": [
    "instead of calling the function recursively, we make a table\n",
    "the rows are the items, the columns are the leftover capacity\n",
    "\n",
    "|          | 0 | 1 | 2 | 3 | 4 | 5 | 6 | 7 |\n",
    "|----------|---|---|---|---|---|---|---|---|\n",
    "| empty    |   |   |   |   |   |   |   |   |\n",
    "| v=2, w=3 |   |   |   |   |   |   |   |   |\n",
    "| v=2, w=1 |   |   |   |   |   |   |   |   |\n",
    "| v=4, w=3 |   |   |   |   |   |   |   |   |\n",
    "| v=5, w=4 |   |   |   |   |   |   |   |   |\n",
    "| v=3, w=2 |   |   |   |   |   |   |   |   |\n",
    "\n",
    "if the knapsack is empty, the value for every capacity is 0\n",
    "\n",
    "|          | 0 | 1 | 2 | 3 | 4 | 5 | 6 | 7 |\n",
    "|----------|---|---|---|---|---|---|---|---|\n",
    "| empty    | 0 | 0 | 0 | 0 | 0 | 0 | 0 | 0 |\n",
    "| v=2, w=3 |   |   |   |   |   |   |   |   |\n",
    "| v=2, w=1 |   |   |   |   |   |   |   |   |\n",
    "| v=4, w=3 |   |   |   |   |   |   |   |   |\n",
    "| v=5, w=4 |   |   |   |   |   |   |   |   |\n",
    "| v=3, w=2 |   |   |   |   |   |   |   |   |\n",
    "\n",
    "if there is not enough capacity the item does not fit\n",
    "\n",
    "|          | 0 | 1 | 2 | 3 | 4 | 5 | 6 | 7 |\n",
    "|----------|---|---|---|---|---|---|---|---|\n",
    "| empty    | 0 | 0 | 0 | 0 | 0 | 0 | 0 | 0 |\n",
    "| v=2, w=3 | 0 | 0 | 0 |   |   |   |   |   |\n",
    "| v=2, w=1 |   |   |   |   |   |   |   |   |\n",
    "| v=4, w=3 |   |   |   |   |   |   |   |   |\n",
    "| v=5, w=4 |   |   |   |   |   |   |   |   |\n",
    "| v=3, w=2 |   |   |   |   |   |   |   |   |\n",
    "\n",
    "if the item fits, there are 2 possibilities:\n",
    "- we do not put it in, so the cell will be the same as the cell above it\n",
    "- we put it in, so the cell will be what was in the previous row, but so many columns before as many the weight is plus the value of the current item \n",
    "\n",
    "from these two options we choose the bigger one\n",
    "\n",
    "|          | 0 | 1 | 2 | 3 | 4 | 5 | 6 | 7 |\n",
    "|----------|---|---|---|---|---|---|---|---|\n",
    "| empty    | 0 | 0 | 0 | 0 | 0 | 0 | 0 | 0 |\n",
    "| v=2, w=3 | 0 | 0 | 0 | 2 | 2 | 2 | 2 | 2 |\n",
    "| v=2, w=1 |   |   |   |   |   |   |   |   |\n",
    "| v=4, w=3 |   |   |   |   |   |   |   |   |\n",
    "| v=5, w=4 |   |   |   |   |   |   |   |   |\n",
    "| v=3, w=2 |   |   |   |   |   |   |   |   |\n",
    "\n",
    "its the same for the second item. this way the filled out table shows the maximum value for the given capacity\n",
    "\n",
    "|          | 0 | 1 | 2 | 3 | 4 | 5 | 6 | 7 |\n",
    "|----------|---|---|---|---|---|---|---|---|\n",
    "| empty    | 0 | 0 | 0 | 0 | 0 | 0 | 0 | 0 |\n",
    "| v=2, w=3 | 0 | 0 | 0 | 2 | 2 | 2 | 2 | 2 |\n",
    "| v=2, w=1 | 0 | 2 | 2 | 2 | 4 | 4 | 4 | 4 |\n",
    "| v=4, w=3 |   |   |   |   |   |   |   |   |\n",
    "| v=5, w=4 |   |   |   |   |   |   |   |   |\n",
    "| v=3, w=2 |   |   |   |   |   |   |   |   |\n",
    "\n",
    "..\n",
    "\n",
    "|          | 0 | 1 | 2 | 3 | 4 | 5 | 6 | 7 |\n",
    "|----------|---|---|---|---|---|---|---|---|\n",
    "| empty    | 0 | 0 | 0 | 0 | 0 | 0 | 0 | 0 |\n",
    "| v=2, w=3 | 0 | 0 | 0 | 2 | 2 | 2 | 2 | 2 |\n",
    "| v=2, w=1 | 0 | 2 | 2 | 2 | 4 | 4 | 4 | 4 |\n",
    "| v=4, w=3 | 0 | 2 | 2 | 4 | 6 | 6 | 6 | 8 |\n",
    "| v=5, w=4 | 0 | 2 | 2 | 4 | 6 | 7 | 7 | 9 |\n",
    "| v=3, w=2 | 0 | 0 | 3 | 5 | 6 | 7 | 9 | 10|"
   ]
  },
  {
   "cell_type": "markdown",
   "id": "1f14eb0f",
   "metadata": {},
   "source": [
    "# bottom-up algorithm"
   ]
  },
  {
   "cell_type": "code",
   "execution_count": 7,
   "id": "ecc9e455",
   "metadata": {},
   "outputs": [],
   "source": [
    "def knapsack_bottom_up(capacity, weights, values):\n",
    "    n = len(weights)\n",
    "\n",
    "    K = [[0 for x in range(capacity + 1)] for x in range(n + 1)]\n",
    "\n",
    "    for i in range(n + 1):\n",
    "        for w in range(capacity + 1):\n",
    "            if i == 0 or w == 0:\n",
    "                K[i][w] = 0\n",
    "            elif weights[i - 1] <= w:\n",
    "                value_without_item = K[i - 1][w]\n",
    "                value_with_item = values[i - 1] + K[i - 1][w - weights[i - 1]]\n",
    "                K[i][w] = max(value_without_item, value_with_item)\n",
    "            else:\n",
    "                K[i][w] = K[i - 1][w]\n",
    "\n",
    "    return K[n][capacity]\n",
    "\n",
    "#n = number of items = len(weights)\n",
    "#m = capacity\n",
    "#calculate an n*m table\n",
    "#time = O(n*m)\n",
    "#memory needed is for the table\n",
    "#space = O(n*m)"
   ]
  },
  {
   "cell_type": "code",
   "execution_count": 8,
   "id": "71de8932",
   "metadata": {},
   "outputs": [
    {
     "name": "stdout",
     "output_type": "stream",
     "text": [
      "0\n",
      "220\n",
      "16\n",
      "100\n",
      "255\n"
     ]
    }
   ],
   "source": [
    "print(knapsack_bottom_up(capacity=50, weights=[], values=[]))\n",
    "print(knapsack_bottom_up(capacity=50, weights=[10, 20, 30], values=[60, 100, 120]))\n",
    "print(knapsack_bottom_up(capacity=10, weights=[1, 2, 4, 2, 5], values=[5, 3, 5, 3, 2]))\n",
    "\n",
    "#runs quickly, and is not recursive\n",
    "print(knapsack_bottom_up(capacity=100, weights=range(1, 31), values=range(1, 31)))\n",
    "print(knapsack_bottom_up(capacity=100, weights=[10] * 30, values=range(1, 31)))"
   ]
  },
  {
   "cell_type": "code",
   "execution_count": 9,
   "id": "3fa24887",
   "metadata": {},
   "outputs": [],
   "source": [
    "import time\n",
    "import random"
   ]
  },
  {
   "cell_type": "code",
   "execution_count": 22,
   "id": "c4cf42ca",
   "metadata": {},
   "outputs": [
    {
     "name": "stdout",
     "output_type": "stream",
     "text": [
      "Count: 10\n",
      "knapsack_recursive average duration: 0.2765655517578125 milliseconds\n",
      "knapsack_greedy average duration: 0.5218982696533203 milliseconds\n",
      "knapsack_dynamic average duration: 0.9398460388183594 milliseconds\n",
      "knapsack_bottom_up average duration: 1.30462646484375 milliseconds\n",
      "Count: 20\n",
      "knapsack_recursive average duration: 0.5352497100830078 milliseconds\n",
      "knapsack_greedy average duration: 0.5838871002197266 milliseconds\n",
      "knapsack_dynamic average duration: 1.3740062713623047 milliseconds\n",
      "knapsack_bottom_up average duration: 1.9774436950683594 milliseconds\n",
      "Count: 30\n",
      "knapsack_recursive average duration: 0.8351802825927734 milliseconds\n",
      "knapsack_greedy average duration: 0.4756450653076172 milliseconds\n",
      "knapsack_dynamic average duration: 1.7261505126953125 milliseconds\n",
      "knapsack_bottom_up average duration: 2.816438674926758 milliseconds\n",
      "Count: 40\n",
      "knapsack_recursive average duration: 1.3022422790527344 milliseconds\n",
      "knapsack_greedy average duration: 0.5540847778320312 milliseconds\n",
      "knapsack_dynamic average duration: 3.003358840942383 milliseconds\n",
      "knapsack_bottom_up average duration: 4.465818405151367 milliseconds\n",
      "Count: 50\n",
      "knapsack_recursive average duration: 3.7696361541748047 milliseconds\n",
      "knapsack_greedy average duration: 0.6935596466064453 milliseconds\n",
      "knapsack_dynamic average duration: 4.960536956787109 milliseconds\n",
      "knapsack_bottom_up average duration: 6.637334823608398 milliseconds\n",
      "Count: 60\n",
      "knapsack_recursive average duration: 10.653972625732422 milliseconds\n",
      "knapsack_greedy average duration: 0.8449554443359375 milliseconds\n",
      "knapsack_dynamic average duration: 8.912324905395508 milliseconds\n",
      "knapsack_bottom_up average duration: 9.862899780273438 milliseconds\n",
      "Count: 70\n",
      "knapsack_recursive average duration: 31.651020050048828 milliseconds\n",
      "knapsack_greedy average duration: 0.9741783142089844 milliseconds\n",
      "knapsack_dynamic average duration: 13.172626495361328 milliseconds\n",
      "knapsack_bottom_up average duration: 13.050556182861328 milliseconds\n",
      "Count: 80\n",
      "knapsack_recursive average duration: 249.85480308532715 milliseconds\n",
      "knapsack_greedy average duration: 1.1413097381591797 milliseconds\n",
      "knapsack_dynamic average duration: 25.61497688293457 milliseconds\n",
      "knapsack_bottom_up average duration: 17.015695571899414 milliseconds\n",
      "Count: 90\n",
      "knapsack_recursive average duration: 548.6094951629639 milliseconds\n",
      "knapsack_greedy average duration: 1.3120174407958984 milliseconds\n",
      "knapsack_dynamic average duration: 33.269643783569336 milliseconds\n",
      "knapsack_bottom_up average duration: 22.12667465209961 milliseconds\n",
      "Count: 100\n",
      "knapsack_recursive average duration: 1254.1537284851074 milliseconds\n",
      "knapsack_greedy average duration: 1.4407634735107422 milliseconds\n",
      "knapsack_dynamic average duration: 44.08979415893555 milliseconds\n",
      "knapsack_bottom_up average duration: 27.425289154052734 milliseconds\n",
      "Count: 110\n",
      "knapsack_greedy average duration: 1.592874526977539 milliseconds\n",
      "knapsack_dynamic average duration: 53.80392074584961 milliseconds\n",
      "knapsack_bottom_up average duration: 33.73408317565918 milliseconds\n",
      "Count: 120\n",
      "knapsack_greedy average duration: 1.7571449279785156 milliseconds\n",
      "knapsack_dynamic average duration: 67.62862205505371 milliseconds\n",
      "knapsack_bottom_up average duration: 41.05949401855469 milliseconds\n",
      "Count: 130\n",
      "knapsack_greedy average duration: 1.9559860229492188 milliseconds\n",
      "knapsack_dynamic average duration: 81.44521713256836 milliseconds\n",
      "knapsack_bottom_up average duration: 48.13051223754883 milliseconds\n",
      "Count: 140\n",
      "knapsack_greedy average duration: 2.0482540130615234 milliseconds\n",
      "knapsack_dynamic average duration: 96.06194496154785 milliseconds\n",
      "knapsack_bottom_up average duration: 55.18388748168945 milliseconds\n",
      "Count: 150\n",
      "knapsack_greedy average duration: 2.2084712982177734 milliseconds\n",
      "knapsack_dynamic average duration: 115.08870124816895 milliseconds\n",
      "knapsack_bottom_up average duration: 65.6745433807373 milliseconds\n",
      "Count: 160\n",
      "knapsack_greedy average duration: 2.4373531341552734 milliseconds\n",
      "knapsack_dynamic average duration: 147.141695022583 milliseconds\n",
      "knapsack_bottom_up average duration: 75.8202075958252 milliseconds\n",
      "Count: 170\n",
      "knapsack_greedy average duration: 2.4874210357666016 milliseconds\n",
      "knapsack_dynamic average duration: 166.07999801635742 milliseconds\n",
      "knapsack_bottom_up average duration: 85.87265014648438 milliseconds\n",
      "Count: 180\n",
      "knapsack_greedy average duration: 2.650737762451172 milliseconds\n",
      "knapsack_dynamic average duration: 194.73862648010254 milliseconds\n",
      "knapsack_bottom_up average duration: 99.72262382507324 milliseconds\n",
      "Count: 190\n",
      "knapsack_greedy average duration: 2.8259754180908203 milliseconds\n",
      "knapsack_dynamic average duration: 218.96839141845703 milliseconds\n",
      "knapsack_bottom_up average duration: 109.64345932006836 milliseconds\n",
      "Count: 200\n",
      "knapsack_greedy average duration: 2.9633045196533203 milliseconds\n",
      "knapsack_dynamic average duration: 242.2924041748047 milliseconds\n",
      "knapsack_bottom_up average duration: 123.65913391113281 milliseconds\n",
      "Count: 210\n",
      "knapsack_greedy average duration: 3.1545162200927734 milliseconds\n",
      "knapsack_dynamic average duration: 274.54686164855957 milliseconds\n",
      "knapsack_bottom_up average duration: 139.56308364868164 milliseconds\n",
      "Count: 220\n",
      "knapsack_greedy average duration: 3.314495086669922 milliseconds\n",
      "knapsack_dynamic average duration: 303.971529006958 milliseconds\n",
      "knapsack_bottom_up average duration: 156.88228607177734 milliseconds\n",
      "Count: 230\n",
      "knapsack_greedy average duration: 3.5507678985595703 milliseconds\n",
      "knapsack_dynamic average duration: 336.7435932159424 milliseconds\n",
      "knapsack_bottom_up average duration: 171.30374908447266 milliseconds\n",
      "Count: 240\n",
      "knapsack_greedy average duration: 3.759145736694336 milliseconds\n",
      "knapsack_dynamic average duration: 375.44703483581543 milliseconds\n",
      "knapsack_bottom_up average duration: 193.96114349365234 milliseconds\n",
      "Count: 250\n",
      "knapsack_greedy average duration: 3.797292709350586 milliseconds\n",
      "knapsack_dynamic average duration: 436.15007400512695 milliseconds\n",
      "knapsack_bottom_up average duration: 212.1267318725586 milliseconds\n",
      "Count: 260\n",
      "knapsack_greedy average duration: 3.856182098388672 milliseconds\n",
      "knapsack_dynamic average duration: 472.34559059143066 milliseconds\n",
      "knapsack_bottom_up average duration: 231.55450820922852 milliseconds\n",
      "Count: 270\n",
      "knapsack_greedy average duration: 4.018068313598633 milliseconds\n",
      "knapsack_dynamic average duration: 516.2935256958008 milliseconds\n",
      "knapsack_bottom_up average duration: 257.01308250427246 milliseconds\n",
      "Count: 280\n",
      "knapsack_greedy average duration: 4.15802001953125 milliseconds\n",
      "knapsack_dynamic average duration: 563.3351802825928 milliseconds\n",
      "knapsack_bottom_up average duration: 280.81655502319336 milliseconds\n",
      "Count: 290\n",
      "knapsack_greedy average duration: 4.311800003051758 milliseconds\n",
      "knapsack_dynamic average duration: 605.9176921844482 milliseconds\n",
      "knapsack_bottom_up average duration: 315.58680534362793 milliseconds\n"
     ]
    }
   ],
   "source": [
    "def knapsack_time(knapsack_function, create_data, times = 100):\n",
    "\n",
    "    duration = 0\n",
    "    for _ in range(times):\n",
    "        capacity, weights, values = create_data()\n",
    "\n",
    "        start = time.time()\n",
    "        knapsack_function(capacity=capacity, weights=weights, values=values)\n",
    "        duration += (time.time() - start) * 1000\n",
    "\n",
    "    print(f\"{knapsack_function.__name__} average duration: {duration} milliseconds\")\n",
    "    return duration\n",
    "\n",
    "item_counts = range(10, 300, 10)\n",
    "greedy_durations = []\n",
    "recursive_durations = []\n",
    "dynamic_durations = []\n",
    "bottom_up_durations = []\n",
    "\n",
    "for count in item_counts:\n",
    "    print(f\"Count: {count}\")\n",
    "    create_data = lambda : (count // 3, [random.randint(1, 100) for _ in range(count)], [random.randint(1, 100) for _ in range(count)])\n",
    "    if count <= 100:\n",
    "        recursive_durations.append(knapsack_time(knapsack_recursive, create_data))\n",
    "\n",
    "    greedy_durations.append(knapsack_time(knapsack_greedy, create_data))\n",
    "    dynamic_durations.append(knapsack_time(knapsack_dynamic, create_data))\n",
    "    bottom_up_durations.append(knapsack_time(knapsack_bottom_up, create_data))\n",
    "\n",
    "# some visual stuff here?????"
   ]
  },
  {
   "cell_type": "code",
   "execution_count": 25,
   "id": "022a342d",
   "metadata": {},
   "outputs": [
    {
     "data": {
      "image/png": "[encoded data removed]",
      "text/plain": [
       "<Figure size 640x480 with 1 Axes>"
      ]
     },
     "metadata": {},
     "output_type": "display_data"
    }
   ],
   "source": [
    "from numpy import *\n",
    "import math\n",
    "import matplotlib.pyplot as plt\n",
    "\n",
    "plt.title(\"Items vs Millisencond\")\n",
    "plt.xlabel(\"Item counts\")\n",
    "plt.ylabel(\"Duration in milliseconds\")\n",
    "plt.plot(item_counts, greedy_durations)\n",
    "plt.plot(item_counts[:len(recursive_durations)], recursive_durations, 'r')\n",
    "plt.plot(item_counts, dynamic_durations, 'b')\n",
    "plt.plot(item_counts, bottom_up_durations, 'g')\n",
    "plt.show()"
   ]
  },
  {
   "cell_type": "code",
   "execution_count": null,
   "id": "3a90b392",
   "metadata": {},
   "outputs": [],
   "source": []
  }
 ],
 "metadata": {
  "kernelspec": {
   "display_name": "Python 3 (ipykernel)",
   "language": "python",
   "name": "python3"
  },
  "language_info": {
   "codemirror_mode": {
    "name": "ipython",
    "version": 3
   },
   "file_extension": ".py",
   "mimetype": "text/x-python",
   "name": "python",
   "nbconvert_exporter": "python",
   "pygments_lexer": "ipython3",
   "version": "3.11.4"
  }
 },
 "nbformat": 4,
 "nbformat_minor": 5
}
